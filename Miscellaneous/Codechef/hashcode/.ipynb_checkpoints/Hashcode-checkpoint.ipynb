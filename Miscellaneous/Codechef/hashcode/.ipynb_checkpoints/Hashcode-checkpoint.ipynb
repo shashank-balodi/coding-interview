{
 "cells": [
  {
   "cell_type": "code",
   "execution_count": 2,
   "metadata": {},
   "outputs": [],
   "source": [
    "import numpy as np\n",
    "import math"
   ]
  },
  {
   "cell_type": "code",
   "execution_count": null,
   "metadata": {},
   "outputs": [],
   "source": [
    "def add_zeros(a, numZeros, begin=True, val=0):\n",
    "    length = a.ravel().shape[0]+numZeros\n",
    "    out = np.ones(length)*val\n",
    "    if begin:\n",
    "        out[:length-numZeros] = a\n",
    "    else:\n",
    "        out[numZeros:] = a\n",
    "    del a\n",
    "    return out"
   ]
  },
  {
   "cell_type": "code",
   "execution_count": null,
   "metadata": {},
   "outputs": [],
   "source": [
    "filename = \"a_example.txt\"\n",
    "with open(filename) as f:\n",
    "    lines = f.readlines()\n",
    "    numBooks, numLib, numDays = [int(x) for x in lines[0].split(' ')]\n",
    "    bookScores = [int(x) for x in lines[1].split(' ')]\n",
    "    bookScores = np.array(bookScores)\n",
    "    libs = []\n",
    "    sequence = []\n",
    "    for i in range(numLib):\n",
    "        # numBooksInLib, numDaysReg, booksSendPerDay\n",
    "        lib = {}\n",
    "        lib['numBooksInLib'], lib['numDaysReg'], lib['booksSendPerDay'] = tuple([int(x) for x in lines[2*i+2].split(' ')])\n",
    "        _bookIds = [int(x) for x in lines[2*i+3].split(' ')]\n",
    "        lib['bookIds'] = np.array(_bookIds)\n",
    "        tempBookScores = bookScores[(lib['bookIds'],)]\n",
    "        temp_axis0 = math.ceil(lib['numBooksInLib']/lib['booksSendPerDay'])\n",
    "        temp_cumsumBookIds = add_zeros(lib['bookIds'][tempBookScores.argsort()[::-1]], (temp_axis0*lib['booksSendPerDay']-lib['numBooksInLib']),begin=False).reshape(temp_axis0, lib['booksSendPerDay'])\n",
    "        temp_cumsumBookIds = add_zeros(np.cumsum(temp_cumsumBookIds.sum(axis=1)), lib['numDaysReg'])\n",
    "        if temp_cumsumBookIds.shape[0] > numDays:\n",
    "            temp_cumsumBookIds = temp_cumsumBookIds[:numDays]\n",
    "        lib['cumsumBookIds'] = add_zeros(temp_cumsumBookIds, numDays-temp_cumsumBookIds.shape[0], begin=False, val=temp_cumsumBookIds[:-1])\n",
    "        libs.append(lib)\n",
    "    #\n",
    "    while i < numDays:\n",
    "        libMaxIndex = sorted(libs, key=lambda x: x['cumsumBookIds'][numDays - i])[0].index()\n",
    "        libMaxInfo = {}\n",
    "        libMaxInfo['ID'] = libMaxIndex\n",
    "        tempBookScores = bookScores[(lib['bookIds'],)]\n",
    "        libMaxBooksTemp = libs[libMaxIndex]['bookIds'][tempBookScores.argsort()[::-1]]\n",
    "        minInd = min(libMaxBooksTemp.shape[0], (numDays-i-libs[libMaxIndex]['numDaysReg'])*libs[libMaxIndex]['booksSendPerDay'])\n",
    "        libMaxInfo['Books'] = tempBookScores[:minInd]\n",
    "        sequence.append(libMaxInfo)\n",
    "        i += libs[libMaxIndex]['numDaysReg']\n",
    "        "
   ]
  },
  {
   "cell_type": "code",
   "execution_count": null,
   "metadata": {},
   "outputs": [],
   "source": [
    "filename = \"a_example.txt\"\n",
    "with open(filename) as f:\n",
    "    lines = f.readlines()\n",
    "    numBooks, numLib, numDays = [int(x) for x in lines[0].split(' ')]\n",
    "    bookScores = [int(x) for x in lines[1].split(' ')]\n",
    "    bookScores = np.array(bookScores)\n",
    "    libs = []\n",
    "    sequence = []\n",
    "    for i in range(numLib):\n",
    "        # numBooksInLib, numDaysReg, booksSendPerDay\n",
    "        lib = {}\n",
    "        lib['numBooksInLib'], lib['numDaysReg'], lib['booksSendPerDay'] = tuple([int(x) for x in lines[2*i+2].split(' ')])\n",
    "        lib['bookIds'] = [int(x) for x in lines[2*i+3].split(' ')]\n",
    "    \n",
    "    sortedLibs = sorted(libs, key=lambda x: x['numDaysReg'], reverse=True)\n",
    "    sequence = []\n",
    "    j = 0\n",
    "    i = 0\n",
    "    while i < numDays:\n",
    "        sequence.append((sortedLibs[j].index(), sortedLibs[j]['bookIds']))\n",
    "        j += 1\n",
    "        i += sortedLibs[j]['numDaysReg']\n",
    "    with open(\"output.txt\", \"w\") as f:\n",
    "        f.write(len(sequence))\n",
    "        for i in "
   ]
  }
 ],
 "metadata": {
  "kernelspec": {
   "display_name": "Python 3",
   "language": "python",
   "name": "python3"
  },
  "language_info": {
   "codemirror_mode": {
    "name": "ipython",
    "version": 3
   },
   "file_extension": ".py",
   "mimetype": "text/x-python",
   "name": "python",
   "nbconvert_exporter": "python",
   "pygments_lexer": "ipython3",
   "version": "3.7.4"
  }
 },
 "nbformat": 4,
 "nbformat_minor": 2
}
